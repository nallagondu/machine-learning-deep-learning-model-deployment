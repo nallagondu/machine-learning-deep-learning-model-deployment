{
  "nbformat": 4,
  "nbformat_minor": 0,
  "metadata": {
    "colab": {
      "name": "pytorch_create_save_onnx.ipynb",
      "provenance": [],
      "collapsed_sections": []
    },
    "kernelspec": {
      "name": "python3",
      "display_name": "Python 3"
    }
  },
  "cells": [
    {
      "cell_type": "code",
      "metadata": {
        "id": "tSidl29aiT2W"
      },
      "source": [
        "import torch\n",
        "import torch.nn as nn\n",
        "from torch.nn import functional as F\n",
        "\n",
        "import pandas as pd\n",
        "import numpy as np"
      ],
      "execution_count": 1,
      "outputs": []
    },
    {
      "cell_type": "code",
      "metadata": {
        "id": "z1YFLFLgii4H"
      },
      "source": [
        "dataset = pd.read_csv('https://raw.githubusercontent.com/futurexskill/ml-model-deployment/main/storepurchasedata_large.csv')"
      ],
      "execution_count": 2,
      "outputs": []
    },
    {
      "cell_type": "code",
      "metadata": {
        "id": "hWHnGlrrinev",
        "colab": {
          "base_uri": "https://localhost:8080/",
          "height": 295
        },
        "outputId": "6a486fd5-07d2-46ff-ae30-8b977a351e6d"
      },
      "source": [
        "dataset.describe()"
      ],
      "execution_count": 3,
      "outputs": [
        {
          "output_type": "execute_result",
          "data": {
            "text/html": [
              "<div>\n",
              "<style scoped>\n",
              "    .dataframe tbody tr th:only-of-type {\n",
              "        vertical-align: middle;\n",
              "    }\n",
              "\n",
              "    .dataframe tbody tr th {\n",
              "        vertical-align: top;\n",
              "    }\n",
              "\n",
              "    .dataframe thead th {\n",
              "        text-align: right;\n",
              "    }\n",
              "</style>\n",
              "<table border=\"1\" class=\"dataframe\">\n",
              "  <thead>\n",
              "    <tr style=\"text-align: right;\">\n",
              "      <th></th>\n",
              "      <th>Age</th>\n",
              "      <th>Salary</th>\n",
              "      <th>Purchased</th>\n",
              "    </tr>\n",
              "  </thead>\n",
              "  <tbody>\n",
              "    <tr>\n",
              "      <th>count</th>\n",
              "      <td>1554.000000</td>\n",
              "      <td>1554.000000</td>\n",
              "      <td>1554.000000</td>\n",
              "    </tr>\n",
              "    <tr>\n",
              "      <th>mean</th>\n",
              "      <td>44.296010</td>\n",
              "      <td>57042.471042</td>\n",
              "      <td>0.694981</td>\n",
              "    </tr>\n",
              "    <tr>\n",
              "      <th>std</th>\n",
              "      <td>17.462458</td>\n",
              "      <td>21209.244800</td>\n",
              "      <td>0.460564</td>\n",
              "    </tr>\n",
              "    <tr>\n",
              "      <th>min</th>\n",
              "      <td>18.000000</td>\n",
              "      <td>20000.000000</td>\n",
              "      <td>0.000000</td>\n",
              "    </tr>\n",
              "    <tr>\n",
              "      <th>25%</th>\n",
              "      <td>27.000000</td>\n",
              "      <td>46000.000000</td>\n",
              "      <td>0.000000</td>\n",
              "    </tr>\n",
              "    <tr>\n",
              "      <th>50%</th>\n",
              "      <td>43.000000</td>\n",
              "      <td>60000.000000</td>\n",
              "      <td>1.000000</td>\n",
              "    </tr>\n",
              "    <tr>\n",
              "      <th>75%</th>\n",
              "      <td>62.000000</td>\n",
              "      <td>66000.000000</td>\n",
              "      <td>1.000000</td>\n",
              "    </tr>\n",
              "    <tr>\n",
              "      <th>max</th>\n",
              "      <td>69.000000</td>\n",
              "      <td>96000.000000</td>\n",
              "      <td>1.000000</td>\n",
              "    </tr>\n",
              "  </tbody>\n",
              "</table>\n",
              "</div>"
            ],
            "text/plain": [
              "               Age        Salary    Purchased\n",
              "count  1554.000000   1554.000000  1554.000000\n",
              "mean     44.296010  57042.471042     0.694981\n",
              "std      17.462458  21209.244800     0.460564\n",
              "min      18.000000  20000.000000     0.000000\n",
              "25%      27.000000  46000.000000     0.000000\n",
              "50%      43.000000  60000.000000     1.000000\n",
              "75%      62.000000  66000.000000     1.000000\n",
              "max      69.000000  96000.000000     1.000000"
            ]
          },
          "metadata": {
            "tags": []
          },
          "execution_count": 3
        }
      ]
    },
    {
      "cell_type": "code",
      "metadata": {
        "id": "8wRc98iJirF6",
        "colab": {
          "base_uri": "https://localhost:8080/",
          "height": 203
        },
        "outputId": "46636949-3d87-4f73-bf29-31cd64853c51"
      },
      "source": [
        "dataset.head()"
      ],
      "execution_count": 4,
      "outputs": [
        {
          "output_type": "execute_result",
          "data": {
            "text/html": [
              "<div>\n",
              "<style scoped>\n",
              "    .dataframe tbody tr th:only-of-type {\n",
              "        vertical-align: middle;\n",
              "    }\n",
              "\n",
              "    .dataframe tbody tr th {\n",
              "        vertical-align: top;\n",
              "    }\n",
              "\n",
              "    .dataframe thead th {\n",
              "        text-align: right;\n",
              "    }\n",
              "</style>\n",
              "<table border=\"1\" class=\"dataframe\">\n",
              "  <thead>\n",
              "    <tr style=\"text-align: right;\">\n",
              "      <th></th>\n",
              "      <th>Age</th>\n",
              "      <th>Salary</th>\n",
              "      <th>Purchased</th>\n",
              "    </tr>\n",
              "  </thead>\n",
              "  <tbody>\n",
              "    <tr>\n",
              "      <th>0</th>\n",
              "      <td>18</td>\n",
              "      <td>20000</td>\n",
              "      <td>0</td>\n",
              "    </tr>\n",
              "    <tr>\n",
              "      <th>1</th>\n",
              "      <td>19</td>\n",
              "      <td>22000</td>\n",
              "      <td>0</td>\n",
              "    </tr>\n",
              "    <tr>\n",
              "      <th>2</th>\n",
              "      <td>20</td>\n",
              "      <td>24000</td>\n",
              "      <td>0</td>\n",
              "    </tr>\n",
              "    <tr>\n",
              "      <th>3</th>\n",
              "      <td>21</td>\n",
              "      <td>28000</td>\n",
              "      <td>0</td>\n",
              "    </tr>\n",
              "    <tr>\n",
              "      <th>4</th>\n",
              "      <td>22</td>\n",
              "      <td>60000</td>\n",
              "      <td>1</td>\n",
              "    </tr>\n",
              "  </tbody>\n",
              "</table>\n",
              "</div>"
            ],
            "text/plain": [
              "   Age  Salary  Purchased\n",
              "0   18   20000          0\n",
              "1   19   22000          0\n",
              "2   20   24000          0\n",
              "3   21   28000          0\n",
              "4   22   60000          1"
            ]
          },
          "metadata": {
            "tags": []
          },
          "execution_count": 4
        }
      ]
    },
    {
      "cell_type": "code",
      "metadata": {
        "id": "lGW-UkoEiu1k"
      },
      "source": [
        "X = dataset.iloc[:, :-1].values\n",
        "y = dataset.iloc[:,-1].values"
      ],
      "execution_count": 5,
      "outputs": []
    },
    {
      "cell_type": "code",
      "metadata": {
        "id": "WwqBbDl-izXb"
      },
      "source": [
        "from sklearn.model_selection import train_test_split\n",
        "X_train, X_test, y_train, y_test = train_test_split(X, y, test_size =.20,random_state=0)"
      ],
      "execution_count": 6,
      "outputs": []
    },
    {
      "cell_type": "code",
      "metadata": {
        "id": "tt_zXndVi9s7"
      },
      "source": [
        "from sklearn.preprocessing import StandardScaler\n",
        "sc = StandardScaler()\n",
        "X_train = sc.fit_transform(X_train)\n",
        "X_test = sc.transform(X_test)"
      ],
      "execution_count": 7,
      "outputs": []
    },
    {
      "cell_type": "code",
      "metadata": {
        "id": "nUPzbcxnjCdW"
      },
      "source": [
        "Xtrain_ = torch.from_numpy(X_train).float()\n",
        "Xtest_ = torch.from_numpy(X_test).float()"
      ],
      "execution_count": 8,
      "outputs": []
    },
    {
      "cell_type": "code",
      "metadata": {
        "id": "DchzoXyEjNzU",
        "colab": {
          "base_uri": "https://localhost:8080/"
        },
        "outputId": "a697440b-0277-46fd-dff3-0473e1b6483c"
      },
      "source": [
        "Xtrain_"
      ],
      "execution_count": 9,
      "outputs": [
        {
          "output_type": "execute_result",
          "data": {
            "text/plain": [
              "tensor([[-0.0935,  0.2215],\n",
              "        [ 1.2217, -0.5342],\n",
              "        [-1.0655,  0.4104],\n",
              "        ...,\n",
              "        [ 1.2789,  0.4104],\n",
              "        [-0.9512,  0.2215],\n",
              "        [-1.2943, -1.4316]])"
            ]
          },
          "metadata": {
            "tags": []
          },
          "execution_count": 9
        }
      ]
    },
    {
      "cell_type": "code",
      "metadata": {
        "id": "EX0_BrxojP7k"
      },
      "source": [
        "ytrain_ = torch.from_numpy(y_train)\n",
        "ytest_ = torch.from_numpy(y_test)"
      ],
      "execution_count": 10,
      "outputs": []
    },
    {
      "cell_type": "code",
      "metadata": {
        "id": "zzOAG9QQjU1e",
        "colab": {
          "base_uri": "https://localhost:8080/"
        },
        "outputId": "f420c04c-ff7a-4718-c932-5266876bc941"
      },
      "source": [
        "ytrain_"
      ],
      "execution_count": 11,
      "outputs": [
        {
          "output_type": "execute_result",
          "data": {
            "text/plain": [
              "tensor([1, 1, 1,  ..., 1, 1, 0])"
            ]
          },
          "metadata": {
            "tags": []
          },
          "execution_count": 11
        }
      ]
    },
    {
      "cell_type": "code",
      "metadata": {
        "id": "TTw284qajWim",
        "colab": {
          "base_uri": "https://localhost:8080/"
        },
        "outputId": "1e6b0775-865d-4dd9-cbc9-974279384c67"
      },
      "source": [
        "Xtrain_.shape, ytrain_.shape"
      ],
      "execution_count": 12,
      "outputs": [
        {
          "output_type": "execute_result",
          "data": {
            "text/plain": [
              "(torch.Size([1243, 2]), torch.Size([1243]))"
            ]
          },
          "metadata": {
            "tags": []
          },
          "execution_count": 12
        }
      ]
    },
    {
      "cell_type": "code",
      "metadata": {
        "id": "ZD4SHx5ujaS-",
        "colab": {
          "base_uri": "https://localhost:8080/"
        },
        "outputId": "7ceaa1cb-62bf-4245-9c87-fccac805567f"
      },
      "source": [
        "Xtest_.shape, ytest_.shape"
      ],
      "execution_count": 13,
      "outputs": [
        {
          "output_type": "execute_result",
          "data": {
            "text/plain": [
              "(torch.Size([311, 2]), torch.Size([311]))"
            ]
          },
          "metadata": {
            "tags": []
          },
          "execution_count": 13
        }
      ]
    },
    {
      "cell_type": "code",
      "metadata": {
        "id": "vrLRbXL0jeJp"
      },
      "source": [
        "input_size=2\n",
        "output_size=2\n",
        "hidden_size=10"
      ],
      "execution_count": 14,
      "outputs": []
    },
    {
      "cell_type": "code",
      "metadata": {
        "id": "sHLzhDGQj1IU"
      },
      "source": [
        "class Net(nn.Module):\n",
        "   def __init__(self):\n",
        "       super(Net, self).__init__()\n",
        "       self.fc1 = torch.nn.Linear(input_size, hidden_size)\n",
        "       self.fc2 = torch.nn.Linear(hidden_size, hidden_size)\n",
        "       self.fc3 = torch.nn.Linear(hidden_size, output_size)\n",
        "\n",
        "\n",
        "   def forward(self, X):\n",
        "       X = torch.relu((self.fc1(X)))\n",
        "       X = torch.relu((self.fc2(X)))\n",
        "       X = self.fc3(X)\n",
        "\n",
        "       return F.log_softmax(X,dim=1)"
      ],
      "execution_count": 15,
      "outputs": []
    },
    {
      "cell_type": "code",
      "metadata": {
        "id": "BmtsSyOakHMi"
      },
      "source": [
        "model = Net()\n",
        "\n"
      ],
      "execution_count": 16,
      "outputs": []
    },
    {
      "cell_type": "code",
      "metadata": {
        "id": "Y1hD_xJakMWR"
      },
      "source": [
        "import torch.optim as optim\n",
        "optimizer = torch.optim.Adam(model.parameters(), lr=0.01)\n",
        "loss_fn = nn.NLLLoss()"
      ],
      "execution_count": 17,
      "outputs": []
    },
    {
      "cell_type": "code",
      "metadata": {
        "id": "4dUAOz5SkVwc"
      },
      "source": [
        "epochs = 100\n"
      ],
      "execution_count": 18,
      "outputs": []
    },
    {
      "cell_type": "code",
      "metadata": {
        "id": "n7A3HMbbkZ6s",
        "colab": {
          "base_uri": "https://localhost:8080/"
        },
        "outputId": "7510790a-1037-4e18-d1ff-49017e6a6e6c"
      },
      "source": [
        "for epoch in range(epochs):\n",
        "  optimizer.zero_grad()\n",
        "  Ypred = model(Xtrain_)\n",
        "  loss = loss_fn(Ypred,  ytrain_)\n",
        "  loss.backward()\n",
        "  optimizer.step()\n",
        "  print('Epoch',epoch, 'loss',loss.item())"
      ],
      "execution_count": 19,
      "outputs": [
        {
          "output_type": "stream",
          "text": [
            "Epoch 0 loss 0.6417384743690491\n",
            "Epoch 1 loss 0.6259592771530151\n",
            "Epoch 2 loss 0.6108320355415344\n",
            "Epoch 3 loss 0.5958574414253235\n",
            "Epoch 4 loss 0.5803265571594238\n",
            "Epoch 5 loss 0.5645008683204651\n",
            "Epoch 6 loss 0.5484357476234436\n",
            "Epoch 7 loss 0.5320326089859009\n",
            "Epoch 8 loss 0.515433132648468\n",
            "Epoch 9 loss 0.4983823001384735\n",
            "Epoch 10 loss 0.48086777329444885\n",
            "Epoch 11 loss 0.4632143974304199\n",
            "Epoch 12 loss 0.4455576241016388\n",
            "Epoch 13 loss 0.4273105263710022\n",
            "Epoch 14 loss 0.40881675481796265\n",
            "Epoch 15 loss 0.3903775215148926\n",
            "Epoch 16 loss 0.3721381723880768\n",
            "Epoch 17 loss 0.3539782762527466\n",
            "Epoch 18 loss 0.33601534366607666\n",
            "Epoch 19 loss 0.3186277747154236\n",
            "Epoch 20 loss 0.3016931116580963\n",
            "Epoch 21 loss 0.28515511751174927\n",
            "Epoch 22 loss 0.26933759450912476\n",
            "Epoch 23 loss 0.2543560564517975\n",
            "Epoch 24 loss 0.2404409795999527\n",
            "Epoch 25 loss 0.2274823933839798\n",
            "Epoch 26 loss 0.2153061032295227\n",
            "Epoch 27 loss 0.2039642632007599\n",
            "Epoch 28 loss 0.19339443743228912\n",
            "Epoch 29 loss 0.18365614116191864\n",
            "Epoch 30 loss 0.17467449605464935\n",
            "Epoch 31 loss 0.16636814177036285\n",
            "Epoch 32 loss 0.15875793993473053\n",
            "Epoch 33 loss 0.15203240513801575\n",
            "Epoch 34 loss 0.14603161811828613\n",
            "Epoch 35 loss 0.14081218838691711\n",
            "Epoch 36 loss 0.13659152388572693\n",
            "Epoch 37 loss 0.13303242623806\n",
            "Epoch 38 loss 0.12983854115009308\n",
            "Epoch 39 loss 0.12726055085659027\n",
            "Epoch 40 loss 0.12506701052188873\n",
            "Epoch 41 loss 0.12353970110416412\n",
            "Epoch 42 loss 0.12236930429935455\n",
            "Epoch 43 loss 0.12154316902160645\n",
            "Epoch 44 loss 0.12082938104867935\n",
            "Epoch 45 loss 0.12007683515548706\n",
            "Epoch 46 loss 0.1192997545003891\n",
            "Epoch 47 loss 0.11843305826187134\n",
            "Epoch 48 loss 0.11747993528842926\n",
            "Epoch 49 loss 0.11677753925323486\n",
            "Epoch 50 loss 0.1161118820309639\n",
            "Epoch 51 loss 0.1155015230178833\n",
            "Epoch 52 loss 0.11496540158987045\n",
            "Epoch 53 loss 0.11436634510755539\n",
            "Epoch 54 loss 0.11365315318107605\n",
            "Epoch 55 loss 0.11302738636732101\n",
            "Epoch 56 loss 0.11238833516836166\n",
            "Epoch 57 loss 0.11227326095104218\n",
            "Epoch 58 loss 0.11215107887983322\n",
            "Epoch 59 loss 0.1120305210351944\n",
            "Epoch 60 loss 0.11185621470212936\n",
            "Epoch 61 loss 0.11153636127710342\n",
            "Epoch 62 loss 0.11114388704299927\n",
            "Epoch 63 loss 0.11067504435777664\n",
            "Epoch 64 loss 0.11013494431972504\n",
            "Epoch 65 loss 0.10953115671873093\n",
            "Epoch 66 loss 0.10933798551559448\n",
            "Epoch 67 loss 0.10905060172080994\n",
            "Epoch 68 loss 0.10873961448669434\n",
            "Epoch 69 loss 0.1085059642791748\n",
            "Epoch 70 loss 0.10827092826366425\n",
            "Epoch 71 loss 0.10804612189531326\n",
            "Epoch 72 loss 0.1079171895980835\n",
            "Epoch 73 loss 0.10773289203643799\n",
            "Epoch 74 loss 0.10764702409505844\n",
            "Epoch 75 loss 0.10753437876701355\n",
            "Epoch 76 loss 0.10745101422071457\n",
            "Epoch 77 loss 0.10726352781057358\n",
            "Epoch 78 loss 0.10702241212129593\n",
            "Epoch 79 loss 0.10687168687582016\n",
            "Epoch 80 loss 0.10665832459926605\n",
            "Epoch 81 loss 0.10644641518592834\n",
            "Epoch 82 loss 0.10619944334030151\n",
            "Epoch 83 loss 0.10598153620958328\n",
            "Epoch 84 loss 0.10583369433879852\n",
            "Epoch 85 loss 0.10553335398435593\n",
            "Epoch 86 loss 0.10525587946176529\n",
            "Epoch 87 loss 0.10513671487569809\n",
            "Epoch 88 loss 0.10477763414382935\n",
            "Epoch 89 loss 0.10446961224079132\n",
            "Epoch 90 loss 0.10425050556659698\n",
            "Epoch 91 loss 0.10393494367599487\n",
            "Epoch 92 loss 0.1038646250963211\n",
            "Epoch 93 loss 0.10383102297782898\n",
            "Epoch 94 loss 0.10380614548921585\n",
            "Epoch 95 loss 0.10363559424877167\n",
            "Epoch 96 loss 0.10357297956943512\n",
            "Epoch 97 loss 0.1035011038184166\n",
            "Epoch 98 loss 0.10328937321901321\n",
            "Epoch 99 loss 0.10299109667539597\n"
          ],
          "name": "stdout"
        }
      ]
    },
    {
      "cell_type": "code",
      "metadata": {
        "id": "8tCbFPQekqD7",
        "colab": {
          "base_uri": "https://localhost:8080/"
        },
        "outputId": "74a37f08-24aa-467a-c78b-fdfe7ba351e8"
      },
      "source": [
        "list(model.parameters())"
      ],
      "execution_count": 20,
      "outputs": [
        {
          "output_type": "execute_result",
          "data": {
            "text/plain": [
              "[Parameter containing:\n",
              " tensor([[-0.1032,  1.1995],\n",
              "         [ 0.4185,  0.2243],\n",
              "         [-0.3409,  0.7900],\n",
              "         [ 0.9989, -0.3686],\n",
              "         [ 0.6399,  0.6053],\n",
              "         [-1.0020, -0.9214],\n",
              "         [ 0.8284,  0.1874],\n",
              "         [-0.7560, -0.7009],\n",
              "         [ 0.7822, -0.1588],\n",
              "         [-0.6669,  0.8685]], requires_grad=True), Parameter containing:\n",
              " tensor([-0.2918,  0.6055,  0.4231, -0.0504,  0.4200, -0.1187,  0.2359,  0.8660,\n",
              "          0.0279,  0.8580], requires_grad=True), Parameter containing:\n",
              " tensor([[ 0.6633,  0.0319,  0.3376,  0.5115,  0.3604, -0.2604,  0.6490, -0.2815,\n",
              "           0.1490,  0.4783],\n",
              "         [-0.7030,  0.2862, -0.2994, -0.2164, -0.1599,  0.7329, -0.8376,  0.4981,\n",
              "           0.0049,  0.1153],\n",
              "         [ 0.0186,  0.2888, -0.1792, -0.2417, -0.0895, -0.0529,  0.2126, -0.2628,\n",
              "          -0.1190, -0.0304],\n",
              "         [-0.8857,  0.3014, -0.3842, -0.2541, -1.0501,  0.6219, -0.7952,  0.4075,\n",
              "          -0.0938, -0.0728],\n",
              "         [ 0.4733,  0.4963,  0.5244,  0.7036,  0.2082, -0.4616,  0.8796, -0.4029,\n",
              "           0.2416,  0.0954],\n",
              "         [ 0.3992,  0.3510,  0.6618,  0.2945,  0.6273,  0.0435,  0.6576, -0.0420,\n",
              "           0.3708,  0.3792],\n",
              "         [-0.2710, -0.1968, -0.3127,  0.1681, -0.2534, -0.1977, -0.1441, -0.2523,\n",
              "           0.0773,  0.2421],\n",
              "         [ 0.9854, -0.1665,  0.0751,  0.4880,  0.5082,  0.0131,  1.0147, -0.3175,\n",
              "           0.1506,  0.3556],\n",
              "         [ 0.6030,  0.4191,  0.1591,  0.8938,  0.1967, -0.6146,  0.7647, -0.0955,\n",
              "           0.2047,  0.0053],\n",
              "         [ 0.6330,  0.4022,  0.6099,  0.6844,  0.5883, -0.3083,  0.7773, -0.1136,\n",
              "           0.1689,  0.5519]], requires_grad=True), Parameter containing:\n",
              " tensor([ 0.5148,  0.2231, -0.1950,  0.4797,  0.4792,  0.0702, -0.3763,  0.3842,\n",
              "          0.2107,  0.1998], requires_grad=True), Parameter containing:\n",
              " tensor([[-0.6189,  0.5195,  0.0110,  0.4491, -0.5769, -0.5512, -0.1517, -0.3285,\n",
              "          -0.4525, -0.5495],\n",
              "         [ 0.4180, -0.5061,  0.1114, -0.4573,  0.4512,  0.3109, -0.1291,  0.4899,\n",
              "           0.0832,  0.5121]], requires_grad=True), Parameter containing:\n",
              " tensor([0.2042, 0.1964], requires_grad=True)]"
            ]
          },
          "metadata": {
            "tags": []
          },
          "execution_count": 20
        }
      ]
    },
    {
      "cell_type": "code",
      "metadata": {
        "id": "HbTrVKqSkx7d",
        "colab": {
          "base_uri": "https://localhost:8080/"
        },
        "outputId": "e6a24660-b823-4422-f579-013867681ccd"
      },
      "source": [
        "torch.from_numpy(sc.transform(np.array([[40,20000]]))).float()"
      ],
      "execution_count": 21,
      "outputs": [
        {
          "output_type": "execute_result",
          "data": {
            "text/plain": [
              "tensor([[-0.2650, -1.7622]])"
            ]
          },
          "metadata": {
            "tags": []
          },
          "execution_count": 21
        }
      ]
    },
    {
      "cell_type": "code",
      "metadata": {
        "id": "G5uCfbcjk8Ul",
        "colab": {
          "base_uri": "https://localhost:8080/"
        },
        "outputId": "b49ac5c7-d087-48ef-acce-009fe8bd3771"
      },
      "source": [
        "y_cust_20_40000 = model(torch.from_numpy(sc.transform(np.array([[40,20000]]))).float())\n",
        "y_cust_20_40000"
      ],
      "execution_count": 22,
      "outputs": [
        {
          "output_type": "execute_result",
          "data": {
            "text/plain": [
              "tensor([[-0.0088, -4.7414]], grad_fn=<LogSoftmaxBackward>)"
            ]
          },
          "metadata": {
            "tags": []
          },
          "execution_count": 22
        }
      ]
    },
    {
      "cell_type": "code",
      "metadata": {
        "id": "ai8UmN6elEws",
        "colab": {
          "base_uri": "https://localhost:8080/"
        },
        "outputId": "75e09203-80e1-491d-eab7-2f4c935b2bcf"
      },
      "source": [
        "_, predicted_20_40000 = torch.max(y_cust_20_40000.data,-1)\n",
        "predicted_20_40000"
      ],
      "execution_count": 23,
      "outputs": [
        {
          "output_type": "execute_result",
          "data": {
            "text/plain": [
              "tensor([0])"
            ]
          },
          "metadata": {
            "tags": []
          },
          "execution_count": 23
        }
      ]
    },
    {
      "cell_type": "code",
      "metadata": {
        "id": "V4EcicUzlNLL",
        "colab": {
          "base_uri": "https://localhost:8080/"
        },
        "outputId": "fb2825c1-07b2-4b8c-cfa7-cb366a774484"
      },
      "source": [
        "y_cust_42_50000 = model(torch.from_numpy(sc.transform(np.array([[42,50000]]))).float())\n",
        "y_cust_42_50000"
      ],
      "execution_count": 24,
      "outputs": [
        {
          "output_type": "execute_result",
          "data": {
            "text/plain": [
              "tensor([[-0.8981, -0.5232]], grad_fn=<LogSoftmaxBackward>)"
            ]
          },
          "metadata": {
            "tags": []
          },
          "execution_count": 24
        }
      ]
    },
    {
      "cell_type": "code",
      "metadata": {
        "id": "BsCTqgcUlSMj",
        "colab": {
          "base_uri": "https://localhost:8080/"
        },
        "outputId": "4070831d-2dba-490f-ece6-67cf9da79b6a"
      },
      "source": [
        "_, predicted_42_50000 = torch.max(y_cust_42_50000.data,-1)\n",
        "predicted_42_50000"
      ],
      "execution_count": 25,
      "outputs": [
        {
          "output_type": "execute_result",
          "data": {
            "text/plain": [
              "tensor([1])"
            ]
          },
          "metadata": {
            "tags": []
          },
          "execution_count": 25
        }
      ]
    },
    {
      "cell_type": "markdown",
      "metadata": {
        "id": "P_1R_MEWMI4z"
      },
      "source": [
        "Export model to ONNX format"
      ]
    },
    {
      "cell_type": "code",
      "metadata": {
        "id": "VPvK8_27GNaU"
      },
      "source": [
        "sample_tensor = torch.from_numpy(sc.transform(np.array([[40,20000]]))).float()\r\n"
      ],
      "execution_count": 26,
      "outputs": []
    },
    {
      "cell_type": "code",
      "metadata": {
        "id": "0X8VI9jyGaaq"
      },
      "source": [
        "torch.onnx.export(model,sample_tensor,\"customer.onnx\",export_params=True)\r\n"
      ],
      "execution_count": 27,
      "outputs": []
    },
    {
      "cell_type": "code",
      "metadata": {
        "colab": {
          "base_uri": "https://localhost:8080/"
        },
        "id": "6bYeTFjcGmeL",
        "outputId": "44a685b6-cb31-453a-af4b-be9d6a5dcd4a"
      },
      "source": [
        "!ls"
      ],
      "execution_count": 28,
      "outputs": [
        {
          "output_type": "stream",
          "text": [
            "customer.onnx  sample_data\n"
          ],
          "name": "stdout"
        }
      ]
    },
    {
      "cell_type": "markdown",
      "metadata": {
        "id": "YUwpxZR8Gvhu"
      },
      "source": [
        "Load the model to TensorFlow"
      ]
    },
    {
      "cell_type": "code",
      "metadata": {
        "colab": {
          "base_uri": "https://localhost:8080/"
        },
        "id": "HKzzur7zGnbH",
        "outputId": "f8e70839-82f8-4fc8-b98a-cc2e1a238a88"
      },
      "source": [
        "!pip install onnx\r\n"
      ],
      "execution_count": 29,
      "outputs": [
        {
          "output_type": "stream",
          "text": [
            "Requirement already satisfied: onnx in /usr/local/lib/python3.6/dist-packages (1.8.0)\n",
            "Requirement already satisfied: numpy in /usr/local/lib/python3.6/dist-packages (from onnx) (1.19.4)\n",
            "Requirement already satisfied: six in /usr/local/lib/python3.6/dist-packages (from onnx) (1.15.0)\n",
            "Requirement already satisfied: typing-extensions>=3.6.2.1 in /usr/local/lib/python3.6/dist-packages (from onnx) (3.7.4.3)\n",
            "Requirement already satisfied: protobuf in /usr/local/lib/python3.6/dist-packages (from onnx) (3.12.4)\n",
            "Requirement already satisfied: setuptools in /usr/local/lib/python3.6/dist-packages (from protobuf->onnx) (51.0.0)\n"
          ],
          "name": "stdout"
        }
      ]
    },
    {
      "cell_type": "code",
      "metadata": {
        "colab": {
          "base_uri": "https://localhost:8080/"
        },
        "id": "KCDXZwcaG1lm",
        "outputId": "ff27d535-c27f-4993-cf72-0f0771d1217f"
      },
      "source": [
        "!pip install onnx_tf\r\n"
      ],
      "execution_count": 30,
      "outputs": [
        {
          "output_type": "stream",
          "text": [
            "Requirement already satisfied: onnx_tf in /usr/local/lib/python3.6/dist-packages (1.7.0)\n",
            "Requirement already satisfied: PyYAML in /usr/local/lib/python3.6/dist-packages (from onnx_tf) (3.13)\n",
            "Requirement already satisfied: onnx>=1.7.0 in /usr/local/lib/python3.6/dist-packages (from onnx_tf) (1.8.0)\n",
            "Requirement already satisfied: tensorflow-addons in /usr/local/lib/python3.6/dist-packages (from onnx_tf) (0.8.3)\n",
            "Requirement already satisfied: numpy in /usr/local/lib/python3.6/dist-packages (from onnx>=1.7.0->onnx_tf) (1.19.4)\n",
            "Requirement already satisfied: six in /usr/local/lib/python3.6/dist-packages (from onnx>=1.7.0->onnx_tf) (1.15.0)\n",
            "Requirement already satisfied: protobuf in /usr/local/lib/python3.6/dist-packages (from onnx>=1.7.0->onnx_tf) (3.12.4)\n",
            "Requirement already satisfied: typing-extensions>=3.6.2.1 in /usr/local/lib/python3.6/dist-packages (from onnx>=1.7.0->onnx_tf) (3.7.4.3)\n",
            "Requirement already satisfied: typeguard in /usr/local/lib/python3.6/dist-packages (from tensorflow-addons->onnx_tf) (2.7.1)\n",
            "Requirement already satisfied: setuptools in /usr/local/lib/python3.6/dist-packages (from protobuf->onnx>=1.7.0->onnx_tf) (51.0.0)\n"
          ],
          "name": "stdout"
        }
      ]
    },
    {
      "cell_type": "code",
      "metadata": {
        "id": "G9kvOgTQG4rc"
      },
      "source": [
        "import onnx\r\n",
        "import onnx_tf\r\n"
      ],
      "execution_count": 31,
      "outputs": []
    },
    {
      "cell_type": "code",
      "metadata": {
        "id": "xXTbgqVEG_ae"
      },
      "source": [
        "import tensorflow_addons"
      ],
      "execution_count": 33,
      "outputs": []
    },
    {
      "cell_type": "code",
      "metadata": {
        "id": "VjsaCUv7HEOf"
      },
      "source": [
        "from onnx_tf.backend import prepare\r\n"
      ],
      "execution_count": 34,
      "outputs": []
    },
    {
      "cell_type": "code",
      "metadata": {
        "id": "kgOmG757HmN-"
      },
      "source": [
        "onnx_model = onnx.load(\"customer.onnx\")\r\n"
      ],
      "execution_count": 35,
      "outputs": []
    },
    {
      "cell_type": "code",
      "metadata": {
        "id": "frd5jJUjHrti"
      },
      "source": [
        "tf_rep = prepare(onnx_model)\r\n"
      ],
      "execution_count": 36,
      "outputs": []
    },
    {
      "cell_type": "code",
      "metadata": {
        "id": "CYpV8NhIHytF"
      },
      "source": [
        "prediction = tf_rep.run((sc.transform(np.array([[42,50000]]))))\r\n"
      ],
      "execution_count": 37,
      "outputs": []
    },
    {
      "cell_type": "code",
      "metadata": {
        "colab": {
          "base_uri": "https://localhost:8080/"
        },
        "id": "JaduKXrBH-WF",
        "outputId": "d367c382-8a34-4d36-f0bc-41942c5faecc"
      },
      "source": [
        "prediction"
      ],
      "execution_count": 38,
      "outputs": [
        {
          "output_type": "execute_result",
          "data": {
            "text/plain": [
              "Outputs(_0=array([[-0.8980679, -0.5231613]], dtype=float32))"
            ]
          },
          "metadata": {
            "tags": []
          },
          "execution_count": 38
        }
      ]
    },
    {
      "cell_type": "code",
      "metadata": {
        "id": "d0BssMEEH_1j"
      },
      "source": [
        ""
      ],
      "execution_count": null,
      "outputs": []
    }
  ]
}